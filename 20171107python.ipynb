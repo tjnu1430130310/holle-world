{
 "cells": [
  {
   "cell_type": "markdown",
   "metadata": {},
   "source": [
    "# 参考文献\n",
    "《数据分析师挣多少钱？“黑”了招聘网站告诉你！》网址：https://zhuanlan.zhihu.com/p/25704059"
   ]
  },
  {
   "cell_type": "code",
   "execution_count": 1,
   "metadata": {
    "collapsed": true
   },
   "outputs": [],
   "source": [
    "# -*- coding:utf-8 -*-\\n\n",
    "import pandas\n",
    "import jieba\n",
    "import matplotlib\n",
    "from matplotlib import pyplot\n",
    "from wordcloud import WordCloud, STOPWORDS\n",
    "import numpy\n",
    "\n",
    "# pyplot.rcParams['font.sans-serif']=['SimHei'] #用来正常显示中文标签\n",
    "matplotlib.rcParams['axes.unicode_minus']=False #用来正常显示负号\\n\",\n",
    "# 有中文出现的情况，需要u'内容'\n",
    "\n",
    "import sys\n",
    "stdo = sys.stdout\n",
    "reload(sys)\n",
    "sys.setdefaultencoding('utf8')\n",
    "sys.stdout= stdo\n",
    "\n",
    "# 在python 下面一个包含中文字符串的列表（list）或字典，直接使用print会出现以下的结果：\n",
    "\n",
    "# dict = {\"asdf\": \"我们的python学习\"}\n",
    "# print dict\n",
    "# {'asdf': '\\\\xe6\\\\x88\\\\x91\\\\xe4\\\\xbb\\\\xac\\\\xe7\\\\x9a\\\\x84python\\\\xe5\\\\xad\\\\xa6\\\\xe4\\\\xb9\\\\xa0'}\n",
    "# 在输出处理好的数据结构的时候很不方便，需要使用以下方法进行输出：\n",
    "# import json\n",
    "# print json.dumps(dict, encoding=\\\"UTF-8\\\", ensure_ascii=False)"
   ]
  },
  {
   "cell_type": "code",
   "execution_count": 56,
   "metadata": {
    "collapsed": true
   },
   "outputs": [],
   "source": [
    "zhfont = matplotlib.font_manager.FontProperties(\n",
    "    #fname = u\"C:\\\\Anaconda2\\\\Lib\\\\site-packages\\\\matplotlib\\\\mpl-data\\\\fonts\\\\ttf\\\\msyh.ttc\",\n",
    "    fname = u\"D:\\\\Projects\\\\Spider\\\\msyh.ttc\",\n",
    "    size = 24)"
   ]
  },
  {
   "cell_type": "code",
   "execution_count": 3,
   "metadata": {},
   "outputs": [
    {
     "name": "stdout",
     "output_type": "stream",
     "text": [
      "<class 'pandas.core.frame.DataFrame'>\n",
      "RangeIndex: 1405 entries, 0 to 1404\n",
      "Data columns (total 12 columns):\n",
      "爬取时间(__time)            1405 non-null object\n",
      "爬取链接(__url)             1405 non-null object\n",
      "职位(positionName)        1404 non-null object\n",
      "公司状况(company)           1405 non-null object\n",
      "发布时间(publish_time)      1404 non-null float64\n",
      "学历(education)           1404 non-null object\n",
      "工作经验(JingYan)           1404 non-null object\n",
      "工资范围(salary)            1404 non-null object\n",
      "职位标签(position_label)    1368 non-null object\n",
      "职位描述(destription)       1404 non-null object\n",
      "工作地点(address)           1404 non-null object\n",
      "Unnamed: 11             0 non-null float64\n",
      "dtypes: float64(2), object(10)\n",
      "memory usage: 131.8+ KB\n",
      "None\n"
     ]
    },
    {
     "data": {
      "text/html": [
       "<div>\n",
       "<style>\n",
       "    .dataframe thead tr:only-child th {\n",
       "        text-align: right;\n",
       "    }\n",
       "\n",
       "    .dataframe thead th {\n",
       "        text-align: left;\n",
       "    }\n",
       "\n",
       "    .dataframe tbody tr th {\n",
       "        vertical-align: top;\n",
       "    }\n",
       "</style>\n",
       "<table border=\"1\" class=\"dataframe\">\n",
       "  <thead>\n",
       "    <tr style=\"text-align: right;\">\n",
       "      <th></th>\n",
       "      <th>爬取时间(__time)</th>\n",
       "      <th>爬取链接(__url)</th>\n",
       "      <th>职位(positionName)</th>\n",
       "      <th>公司状况(company)</th>\n",
       "      <th>发布时间(publish_time)</th>\n",
       "      <th>学历(education)</th>\n",
       "      <th>工作经验(JingYan)</th>\n",
       "      <th>工资范围(salary)</th>\n",
       "      <th>职位标签(position_label)</th>\n",
       "      <th>职位描述(destription)</th>\n",
       "      <th>工作地点(address)</th>\n",
       "      <th>Unnamed: 11</th>\n",
       "    </tr>\n",
       "  </thead>\n",
       "  <tbody>\n",
       "    <tr>\n",
       "      <th>0</th>\n",
       "      <td>2017-11-07 17:37:31</td>\n",
       "      <td>https://www.lagou.com/jobs/1448499.html</td>\n",
       "      <td>C++/Php/Python/Nodejs开...</td>\n",
       "      <td>{\"field\":\"数据服务,企业服务\",\"scale\":\"&lt;p class=\\\"finan...</td>\n",
       "      <td>1.509961e+09</td>\n",
       "      <td>本科及以上 /</td>\n",
       "      <td>经验1-3年 /</td>\n",
       "      <td>12k-24k</td>\n",
       "      <td>Node.js</td>\n",
       "      <td>&lt;p&gt;工作职责：&lt;br&gt;1. 负责大数据方向产品化工作&lt;br&gt;2. 负责产品运营管理平台建设...</td>\n",
       "      <td>上海/杨浦区/长阳路/ 隆昌路619号城市概念创意园区/</td>\n",
       "      <td>NaN</td>\n",
       "    </tr>\n",
       "    <tr>\n",
       "      <th>1</th>\n",
       "      <td>2017-11-07 17:37:29</td>\n",
       "      <td>https://www.lagou.com/jobs/3455363.html</td>\n",
       "      <td>python开发工程师(数据挖...</td>\n",
       "      <td>{\"field\":\"社交网络\",\"scale\":\"150-500人\",\"homepage\":...</td>\n",
       "      <td>1.509961e+09</td>\n",
       "      <td>本科及以上 /</td>\n",
       "      <td>经验1-3年 /</td>\n",
       "      <td>15k-30k</td>\n",
       "      <td>Python/大数据/信息安全</td>\n",
       "      <td>&lt;p&gt;职位描述：&lt;/p&gt;&lt;p&gt;1、负责安全数据分析平台的设计与开发，包括数据采集与清洗、数据...</td>\n",
       "      <td>北京/朝阳区/望京/ 阜通东大街1号望京Soho塔2,B座20层/</td>\n",
       "      <td>NaN</td>\n",
       "    </tr>\n",
       "    <tr>\n",
       "      <th>2</th>\n",
       "      <td>2017-11-07 17:37:27</td>\n",
       "      <td>https://www.lagou.com/jobs/3114010.html</td>\n",
       "      <td>python爬虫--金融科技</td>\n",
       "      <td>{\"field\":\"金融,企业服务\",\"scale\":\"50-150人\",\"homepage...</td>\n",
       "      <td>1.509466e+09</td>\n",
       "      <td>本科及以上 /</td>\n",
       "      <td>经验不限 /</td>\n",
       "      <td>15k-30k</td>\n",
       "      <td>爬虫/大数据/数据/服务器端/Python/全栈</td>\n",
       "      <td>&lt;p&gt;北京原始会投资管理有限公司（http://www.yuanshihui.com/）&lt;/...</td>\n",
       "      <td>北京/朝阳区/三元桥/ 网信大厦A座12层/</td>\n",
       "      <td>NaN</td>\n",
       "    </tr>\n",
       "    <tr>\n",
       "      <th>3</th>\n",
       "      <td>2017-11-07 17:37:27</td>\n",
       "      <td>https://www.lagou.com/jobs/3118058.html</td>\n",
       "      <td>python爬虫--fintech方向</td>\n",
       "      <td>{\"field\":\"金融,企业服务\",\"scale\":\"50-150人\",\"homepage...</td>\n",
       "      <td>1.509466e+09</td>\n",
       "      <td>本科及以上 /</td>\n",
       "      <td>经验不限 /</td>\n",
       "      <td>15k-30k</td>\n",
       "      <td>爬虫/大数据/数据/服务器端/Python/全栈</td>\n",
       "      <td>&lt;p&gt;北京原始会投资管理有限公司（http://www.yuanshihui.com/）&lt;/...</td>\n",
       "      <td>北京/朝阳区/三元桥/ 网信大厦A座12层/</td>\n",
       "      <td>NaN</td>\n",
       "    </tr>\n",
       "    <tr>\n",
       "      <th>4</th>\n",
       "      <td>2017-11-07 17:37:25</td>\n",
       "      <td>https://www.lagou.com/jobs/3071379.html</td>\n",
       "      <td>python爬虫工程师--人工智能</td>\n",
       "      <td>{\"field\":\"金融,企业服务\",\"scale\":\"50-150人\",\"homepage...</td>\n",
       "      <td>1.509466e+09</td>\n",
       "      <td>本科及以上 /</td>\n",
       "      <td>经验不限 /</td>\n",
       "      <td>15k-30k</td>\n",
       "      <td>爬虫/大数据/数据/服务器端/Python/全栈</td>\n",
       "      <td>&lt;p&gt;北京原始会投资管理有限公司（http://www.yuanshihui.com/）&lt;/...</td>\n",
       "      <td>北京/朝阳区/三元桥/ 网信大厦A座12层/</td>\n",
       "      <td>NaN</td>\n",
       "    </tr>\n",
       "  </tbody>\n",
       "</table>\n",
       "</div>"
      ],
      "text/plain": [
       "          爬取时间(__time)                              爬取链接(__url)  \\\n",
       "0  2017-11-07 17:37:31  https://www.lagou.com/jobs/1448499.html   \n",
       "1  2017-11-07 17:37:29  https://www.lagou.com/jobs/3455363.html   \n",
       "2  2017-11-07 17:37:27  https://www.lagou.com/jobs/3114010.html   \n",
       "3  2017-11-07 17:37:27  https://www.lagou.com/jobs/3118058.html   \n",
       "4  2017-11-07 17:37:25  https://www.lagou.com/jobs/3071379.html   \n",
       "\n",
       "            职位(positionName)  \\\n",
       "0  C++/Php/Python/Nodejs开...   \n",
       "1         python开发工程师(数据挖...   \n",
       "2             python爬虫--金融科技   \n",
       "3        python爬虫--fintech方向   \n",
       "4          python爬虫工程师--人工智能   \n",
       "\n",
       "                                       公司状况(company)  发布时间(publish_time)  \\\n",
       "0  {\"field\":\"数据服务,企业服务\",\"scale\":\"<p class=\\\"finan...        1.509961e+09   \n",
       "1  {\"field\":\"社交网络\",\"scale\":\"150-500人\",\"homepage\":...        1.509961e+09   \n",
       "2  {\"field\":\"金融,企业服务\",\"scale\":\"50-150人\",\"homepage...        1.509466e+09   \n",
       "3  {\"field\":\"金融,企业服务\",\"scale\":\"50-150人\",\"homepage...        1.509466e+09   \n",
       "4  {\"field\":\"金融,企业服务\",\"scale\":\"50-150人\",\"homepage...        1.509466e+09   \n",
       "\n",
       "  学历(education) 工作经验(JingYan) 工资范围(salary)      职位标签(position_label)  \\\n",
       "0       本科及以上 /      经验1-3年 /      12k-24k                   Node.js   \n",
       "1       本科及以上 /      经验1-3年 /      15k-30k           Python/大数据/信息安全   \n",
       "2       本科及以上 /        经验不限 /      15k-30k  爬虫/大数据/数据/服务器端/Python/全栈   \n",
       "3       本科及以上 /        经验不限 /      15k-30k  爬虫/大数据/数据/服务器端/Python/全栈   \n",
       "4       本科及以上 /        经验不限 /      15k-30k  爬虫/大数据/数据/服务器端/Python/全栈   \n",
       "\n",
       "                                   职位描述(destription)  \\\n",
       "0  <p>工作职责：<br>1. 负责大数据方向产品化工作<br>2. 负责产品运营管理平台建设...   \n",
       "1  <p>职位描述：</p><p>1、负责安全数据分析平台的设计与开发，包括数据采集与清洗、数据...   \n",
       "2  <p>北京原始会投资管理有限公司（http://www.yuanshihui.com/）</...   \n",
       "3  <p>北京原始会投资管理有限公司（http://www.yuanshihui.com/）</...   \n",
       "4  <p>北京原始会投资管理有限公司（http://www.yuanshihui.com/）</...   \n",
       "\n",
       "                       工作地点(address)  Unnamed: 11  \n",
       "0       上海/杨浦区/长阳路/ 隆昌路619号城市概念创意园区/          NaN  \n",
       "1  北京/朝阳区/望京/ 阜通东大街1号望京Soho塔2,B座20层/          NaN  \n",
       "2             北京/朝阳区/三元桥/ 网信大厦A座12层/          NaN  \n",
       "3             北京/朝阳区/三元桥/ 网信大厦A座12层/          NaN  \n",
       "4             北京/朝阳区/三元桥/ 网信大厦A座12层/          NaN  "
      ]
     },
     "execution_count": 3,
     "metadata": {},
     "output_type": "execute_result"
    }
   ],
   "source": [
    "df = pandas.read_csv('crawler-data-807367-20171108python.csv')\n",
    "print df.info()\n",
    "df.head()"
   ]
  },
  {
   "cell_type": "markdown",
   "metadata": {},
   "source": [
    "## 数据清洗"
   ]
  },
  {
   "cell_type": "code",
   "execution_count": 4,
   "metadata": {
    "collapsed": true
   },
   "outputs": [],
   "source": [
    "# 清除不需要的字段\n",
    "new_df = df.drop(['Unnamed: 11'], axis=1)\n",
    "\n",
    "# 更改列名\n",
    "new_df.columns = ['__time', '__url', 'positionName', 'company', 'publish_time', 'education', 'JingYan', 'salary', 'position_label', 'destription', 'address']"
   ]
  },
  {
   "cell_type": "code",
   "execution_count": 5,
   "metadata": {},
   "outputs": [
    {
     "data": {
      "text/plain": [
       "False    1404\n",
       "True        1\n",
       "Name: salary, dtype: int64"
      ]
     },
     "execution_count": 5,
     "metadata": {},
     "output_type": "execute_result"
    }
   ],
   "source": [
    "# 是否存在空值\n",
    "new_df['salary'].isnull().value_counts()"
   ]
  },
  {
   "cell_type": "code",
   "execution_count": 6,
   "metadata": {
    "collapsed": true
   },
   "outputs": [],
   "source": [
    "# 删除薪资为空的行\n",
    "new_df = new_df.drop(new_df[new_df.salary.isnull()].index)"
   ]
  },
  {
   "cell_type": "code",
   "execution_count": 7,
   "metadata": {},
   "outputs": [
    {
     "name": "stdout",
     "output_type": "stream",
     "text": [
      "<class 'pandas.core.frame.DataFrame'>\n",
      "Int64Index: 1404 entries, 0 to 1404\n",
      "Data columns (total 11 columns):\n",
      "__time            1404 non-null object\n",
      "__url             1404 non-null object\n",
      "positionName      1404 non-null object\n",
      "company           1404 non-null object\n",
      "publish_time      1404 non-null float64\n",
      "education         1404 non-null object\n",
      "JingYan           1404 non-null object\n",
      "salary            1404 non-null object\n",
      "position_label    1368 non-null object\n",
      "destription       1404 non-null object\n",
      "address           1404 non-null object\n",
      "dtypes: float64(1), object(10)\n",
      "memory usage: 131.6+ KB\n",
      "None\n"
     ]
    },
    {
     "data": {
      "text/html": [
       "<div>\n",
       "<style>\n",
       "    .dataframe thead tr:only-child th {\n",
       "        text-align: right;\n",
       "    }\n",
       "\n",
       "    .dataframe thead th {\n",
       "        text-align: left;\n",
       "    }\n",
       "\n",
       "    .dataframe tbody tr th {\n",
       "        vertical-align: top;\n",
       "    }\n",
       "</style>\n",
       "<table border=\"1\" class=\"dataframe\">\n",
       "  <thead>\n",
       "    <tr style=\"text-align: right;\">\n",
       "      <th></th>\n",
       "      <th>__time</th>\n",
       "      <th>__url</th>\n",
       "      <th>positionName</th>\n",
       "      <th>company</th>\n",
       "      <th>publish_time</th>\n",
       "      <th>education</th>\n",
       "      <th>JingYan</th>\n",
       "      <th>salary</th>\n",
       "      <th>position_label</th>\n",
       "      <th>destription</th>\n",
       "      <th>address</th>\n",
       "    </tr>\n",
       "  </thead>\n",
       "  <tbody>\n",
       "    <tr>\n",
       "      <th>0</th>\n",
       "      <td>2017-11-07 17:37:31</td>\n",
       "      <td>https://www.lagou.com/jobs/1448499.html</td>\n",
       "      <td>C++/Php/Python/Nodejs开...</td>\n",
       "      <td>{\"field\":\"数据服务,企业服务\",\"scale\":\"&lt;p class=\\\"finan...</td>\n",
       "      <td>1.509961e+09</td>\n",
       "      <td>本科及以上 /</td>\n",
       "      <td>经验1-3年 /</td>\n",
       "      <td>12k-24k</td>\n",
       "      <td>Node.js</td>\n",
       "      <td>&lt;p&gt;工作职责：&lt;br&gt;1. 负责大数据方向产品化工作&lt;br&gt;2. 负责产品运营管理平台建设...</td>\n",
       "      <td>上海/杨浦区/长阳路/ 隆昌路619号城市概念创意园区/</td>\n",
       "    </tr>\n",
       "    <tr>\n",
       "      <th>1</th>\n",
       "      <td>2017-11-07 17:37:29</td>\n",
       "      <td>https://www.lagou.com/jobs/3455363.html</td>\n",
       "      <td>python开发工程师(数据挖...</td>\n",
       "      <td>{\"field\":\"社交网络\",\"scale\":\"150-500人\",\"homepage\":...</td>\n",
       "      <td>1.509961e+09</td>\n",
       "      <td>本科及以上 /</td>\n",
       "      <td>经验1-3年 /</td>\n",
       "      <td>15k-30k</td>\n",
       "      <td>Python/大数据/信息安全</td>\n",
       "      <td>&lt;p&gt;职位描述：&lt;/p&gt;&lt;p&gt;1、负责安全数据分析平台的设计与开发，包括数据采集与清洗、数据...</td>\n",
       "      <td>北京/朝阳区/望京/ 阜通东大街1号望京Soho塔2,B座20层/</td>\n",
       "    </tr>\n",
       "    <tr>\n",
       "      <th>2</th>\n",
       "      <td>2017-11-07 17:37:27</td>\n",
       "      <td>https://www.lagou.com/jobs/3114010.html</td>\n",
       "      <td>python爬虫--金融科技</td>\n",
       "      <td>{\"field\":\"金融,企业服务\",\"scale\":\"50-150人\",\"homepage...</td>\n",
       "      <td>1.509466e+09</td>\n",
       "      <td>本科及以上 /</td>\n",
       "      <td>经验不限 /</td>\n",
       "      <td>15k-30k</td>\n",
       "      <td>爬虫/大数据/数据/服务器端/Python/全栈</td>\n",
       "      <td>&lt;p&gt;北京原始会投资管理有限公司（http://www.yuanshihui.com/）&lt;/...</td>\n",
       "      <td>北京/朝阳区/三元桥/ 网信大厦A座12层/</td>\n",
       "    </tr>\n",
       "    <tr>\n",
       "      <th>3</th>\n",
       "      <td>2017-11-07 17:37:27</td>\n",
       "      <td>https://www.lagou.com/jobs/3118058.html</td>\n",
       "      <td>python爬虫--fintech方向</td>\n",
       "      <td>{\"field\":\"金融,企业服务\",\"scale\":\"50-150人\",\"homepage...</td>\n",
       "      <td>1.509466e+09</td>\n",
       "      <td>本科及以上 /</td>\n",
       "      <td>经验不限 /</td>\n",
       "      <td>15k-30k</td>\n",
       "      <td>爬虫/大数据/数据/服务器端/Python/全栈</td>\n",
       "      <td>&lt;p&gt;北京原始会投资管理有限公司（http://www.yuanshihui.com/）&lt;/...</td>\n",
       "      <td>北京/朝阳区/三元桥/ 网信大厦A座12层/</td>\n",
       "    </tr>\n",
       "    <tr>\n",
       "      <th>4</th>\n",
       "      <td>2017-11-07 17:37:25</td>\n",
       "      <td>https://www.lagou.com/jobs/3071379.html</td>\n",
       "      <td>python爬虫工程师--人工智能</td>\n",
       "      <td>{\"field\":\"金融,企业服务\",\"scale\":\"50-150人\",\"homepage...</td>\n",
       "      <td>1.509466e+09</td>\n",
       "      <td>本科及以上 /</td>\n",
       "      <td>经验不限 /</td>\n",
       "      <td>15k-30k</td>\n",
       "      <td>爬虫/大数据/数据/服务器端/Python/全栈</td>\n",
       "      <td>&lt;p&gt;北京原始会投资管理有限公司（http://www.yuanshihui.com/）&lt;/...</td>\n",
       "      <td>北京/朝阳区/三元桥/ 网信大厦A座12层/</td>\n",
       "    </tr>\n",
       "  </tbody>\n",
       "</table>\n",
       "</div>"
      ],
      "text/plain": [
       "                __time                                    __url  \\\n",
       "0  2017-11-07 17:37:31  https://www.lagou.com/jobs/1448499.html   \n",
       "1  2017-11-07 17:37:29  https://www.lagou.com/jobs/3455363.html   \n",
       "2  2017-11-07 17:37:27  https://www.lagou.com/jobs/3114010.html   \n",
       "3  2017-11-07 17:37:27  https://www.lagou.com/jobs/3118058.html   \n",
       "4  2017-11-07 17:37:25  https://www.lagou.com/jobs/3071379.html   \n",
       "\n",
       "                positionName  \\\n",
       "0  C++/Php/Python/Nodejs开...   \n",
       "1         python开发工程师(数据挖...   \n",
       "2             python爬虫--金融科技   \n",
       "3        python爬虫--fintech方向   \n",
       "4          python爬虫工程师--人工智能   \n",
       "\n",
       "                                             company  publish_time education  \\\n",
       "0  {\"field\":\"数据服务,企业服务\",\"scale\":\"<p class=\\\"finan...  1.509961e+09   本科及以上 /   \n",
       "1  {\"field\":\"社交网络\",\"scale\":\"150-500人\",\"homepage\":...  1.509961e+09   本科及以上 /   \n",
       "2  {\"field\":\"金融,企业服务\",\"scale\":\"50-150人\",\"homepage...  1.509466e+09   本科及以上 /   \n",
       "3  {\"field\":\"金融,企业服务\",\"scale\":\"50-150人\",\"homepage...  1.509466e+09   本科及以上 /   \n",
       "4  {\"field\":\"金融,企业服务\",\"scale\":\"50-150人\",\"homepage...  1.509466e+09   本科及以上 /   \n",
       "\n",
       "    JingYan   salary            position_label  \\\n",
       "0  经验1-3年 /  12k-24k                   Node.js   \n",
       "1  经验1-3年 /  15k-30k           Python/大数据/信息安全   \n",
       "2    经验不限 /  15k-30k  爬虫/大数据/数据/服务器端/Python/全栈   \n",
       "3    经验不限 /  15k-30k  爬虫/大数据/数据/服务器端/Python/全栈   \n",
       "4    经验不限 /  15k-30k  爬虫/大数据/数据/服务器端/Python/全栈   \n",
       "\n",
       "                                         destription  \\\n",
       "0  <p>工作职责：<br>1. 负责大数据方向产品化工作<br>2. 负责产品运营管理平台建设...   \n",
       "1  <p>职位描述：</p><p>1、负责安全数据分析平台的设计与开发，包括数据采集与清洗、数据...   \n",
       "2  <p>北京原始会投资管理有限公司（http://www.yuanshihui.com/）</...   \n",
       "3  <p>北京原始会投资管理有限公司（http://www.yuanshihui.com/）</...   \n",
       "4  <p>北京原始会投资管理有限公司（http://www.yuanshihui.com/）</...   \n",
       "\n",
       "                             address  \n",
       "0       上海/杨浦区/长阳路/ 隆昌路619号城市概念创意园区/  \n",
       "1  北京/朝阳区/望京/ 阜通东大街1号望京Soho塔2,B座20层/  \n",
       "2             北京/朝阳区/三元桥/ 网信大厦A座12层/  \n",
       "3             北京/朝阳区/三元桥/ 网信大厦A座12层/  \n",
       "4             北京/朝阳区/三元桥/ 网信大厦A座12层/  "
      ]
     },
     "execution_count": 7,
     "metadata": {},
     "output_type": "execute_result"
    }
   ],
   "source": [
    "print new_df.info()\n",
    "new_df.head()"
   ]
  },
  {
   "cell_type": "markdown",
   "metadata": {},
   "source": [
    "## 地域分布"
   ]
  },
  {
   "cell_type": "code",
   "execution_count": 8,
   "metadata": {
    "collapsed": true
   },
   "outputs": [],
   "source": [
    "def city_split(full_address):\n",
    "    try:\n",
    "        #return full_address.split('/')[0].decode('utf-8')\n",
    "        # print full_address.split('/')[0]\n",
    "        city = full_address.split('/')[0]\n",
    "    except:\n",
    "        # print full_address\n",
    "        city = full_address\n",
    "    return city"
   ]
  },
  {
   "cell_type": "code",
   "execution_count": 9,
   "metadata": {
    "collapsed": true
   },
   "outputs": [],
   "source": [
    "new_df['city'] = new_df['address'].apply(city_split)"
   ]
  },
  {
   "cell_type": "code",
   "execution_count": 10,
   "metadata": {
    "collapsed": true
   },
   "outputs": [],
   "source": [
    "city_count = pandas.value_counts(new_df.city)"
   ]
  },
  {
   "cell_type": "code",
   "execution_count": 15,
   "metadata": {},
   "outputs": [],
   "source": [
    "def auto_xtricks(rects, xticks):\n",
    "    x = []\n",
    "    for rect in rects:\n",
    "        x.append(rect.get_x() + rect.get_width()/2)\n",
    "    x = tuple(x)\n",
    "    pyplot.xticks(x,xticks)\n",
    "        \n",
    "def auto_tag(rects):\n",
    "    for rect in rects:\n",
    "        height = rect.get_height()\n",
    "        pyplot.text(rect.get_x() + rect.get_width()/4., 1.03*height, \"%s\" % float(height))"
   ]
  },
  {
   "cell_type": "code",
   "execution_count": 40,
   "metadata": {},
   "outputs": [
    {
     "data": {
      "image/png": "[encoded data removed]",
      "text/plain": [
       "<matplotlib.figure.Figure at 0xfbe3940>"
      ]
     },
     "metadata": {},
     "output_type": "display_data"
    }
   ],
   "source": [
    "# 观察地域分布情况\n",
    "fig = pyplot.figure(figsize=(36, 20))\n",
    "ax1 = pyplot.subplot(111)\n",
    "rect = ax1.bar(numpy.arange(len(city_count)),city_count.values, width = 0.5)\n",
    "\n",
    "auto_xtricks(rect, city_count.index)\n",
    "ax1.set_xticklabels(city_count.index,fontproperties = zhfont)\n",
    "\n",
    "auto_tag(rect)\n",
    "ax1.set_title(u'不同城市需求量', fontproperties = zhfont)\n",
    "\n",
    "pyplot.xlabel(u\"城市\",fontproperties = zhfont)\n",
    "pyplot.ylabel(u\"需求\",fontproperties = zhfont)\n",
    "\n",
    "pyplot.savefig('city_count.png')\n",
    "pyplot.show()"
   ]
  },
  {
   "cell_type": "markdown",
   "metadata": {},
   "source": [
    "在拉勾网上，全国有34个城市的企业需求python人才，其中大多数需求产生于北京市。需求量排在前5的分别是：北京、上海、深圳、杭州、广州。需要大量使用python编程语言的职业大量集中在北上广深四大一线城市，以及杭州这个互联网和电子商务企业的聚集地。我国大量互联网企业在北京聚集，因而北京市占据了巨大的需求比重。\n",
    "\n",
    "python人才的工作机会集中在北上广深以及杭州；另一个方面，这些城市也都集中了大量的各行业人才，机遇与挑战并存。\n",
    "\n",
    "## 薪酬分布"
   ]
  },
  {
   "cell_type": "code",
   "execution_count": 22,
   "metadata": {},
   "outputs": [
    {
     "data": {
      "text/plain": [
       "False    1404\n",
       "Name: salary, dtype: int64"
      ]
     },
     "execution_count": 22,
     "metadata": {},
     "output_type": "execute_result"
    }
   ],
   "source": [
    "# 是否存在空值\n",
    "new_df['salary'].isnull().value_counts()"
   ]
  },
  {
   "cell_type": "code",
   "execution_count": null,
   "metadata": {
    "collapsed": true
   },
   "outputs": [],
   "source": [
    "# 删除薪资为空的行\n",
    "new_df = new_df.drop(new_df[new_df.salary.isnull()].index)"
   ]
  },
  {
   "cell_type": "code",
   "execution_count": 27,
   "metadata": {
    "collapsed": true
   },
   "outputs": [],
   "source": [
    "def salary_split(salary):\n",
    "    try:\n",
    "        salary_list = salary.split('-')\n",
    "        #print salary\n",
    "        min_salary = float(int(salary_list[0][:-1]))\n",
    "        return min_salary\n",
    "    except:\n",
    "        print salary\n",
    "        salary_list = salary.split('k')\n",
    "        #print salary\n",
    "        min_salary = float(int(salary_list[0][:-1]))\n",
    "        return min_salary"
   ]
  },
  {
   "cell_type": "code",
   "execution_count": 28,
   "metadata": {
    "collapsed": true
   },
   "outputs": [],
   "source": [
    "new_df['min_salary'] = new_df.salary.apply(salary_split)"
   ]
  },
  {
   "cell_type": "code",
   "execution_count": 29,
   "metadata": {},
   "outputs": [
    {
     "name": "stdout",
     "output_type": "stream",
     "text": [
      "<class 'pandas.core.frame.DataFrame'>\n",
      "Int64Index: 1404 entries, 0 to 1404\n",
      "Data columns (total 13 columns):\n",
      "__time            1404 non-null object\n",
      "__url             1404 non-null object\n",
      "positionName      1404 non-null object\n",
      "company           1404 non-null object\n",
      "publish_time      1404 non-null float64\n",
      "education         1404 non-null object\n",
      "JingYan           1404 non-null object\n",
      "salary            1404 non-null object\n",
      "position_label    1368 non-null object\n",
      "destription       1404 non-null object\n",
      "address           1404 non-null object\n",
      "city              1404 non-null object\n",
      "min_salary        1404 non-null float64\n",
      "dtypes: float64(2), object(11)\n",
      "memory usage: 153.6+ KB\n",
      "None\n"
     ]
    },
    {
     "data": {
      "text/html": [
       "<div>\n",
       "<style>\n",
       "    .dataframe thead tr:only-child th {\n",
       "        text-align: right;\n",
       "    }\n",
       "\n",
       "    .dataframe thead th {\n",
       "        text-align: left;\n",
       "    }\n",
       "\n",
       "    .dataframe tbody tr th {\n",
       "        vertical-align: top;\n",
       "    }\n",
       "</style>\n",
       "<table border=\"1\" class=\"dataframe\">\n",
       "  <thead>\n",
       "    <tr style=\"text-align: right;\">\n",
       "      <th></th>\n",
       "      <th>__time</th>\n",
       "      <th>__url</th>\n",
       "      <th>positionName</th>\n",
       "      <th>company</th>\n",
       "      <th>publish_time</th>\n",
       "      <th>education</th>\n",
       "      <th>JingYan</th>\n",
       "      <th>salary</th>\n",
       "      <th>position_label</th>\n",
       "      <th>destription</th>\n",
       "      <th>address</th>\n",
       "      <th>city</th>\n",
       "      <th>min_salary</th>\n",
       "    </tr>\n",
       "  </thead>\n",
       "  <tbody>\n",
       "    <tr>\n",
       "      <th>0</th>\n",
       "      <td>2017-11-07 17:37:31</td>\n",
       "      <td>https://www.lagou.com/jobs/1448499.html</td>\n",
       "      <td>C++/Php/Python/Nodejs开...</td>\n",
       "      <td>{\"field\":\"数据服务,企业服务\",\"scale\":\"&lt;p class=\\\"finan...</td>\n",
       "      <td>1.509961e+09</td>\n",
       "      <td>本科及以上 /</td>\n",
       "      <td>经验1-3年 /</td>\n",
       "      <td>12k-24k</td>\n",
       "      <td>Node.js</td>\n",
       "      <td>&lt;p&gt;工作职责：&lt;br&gt;1. 负责大数据方向产品化工作&lt;br&gt;2. 负责产品运营管理平台建设...</td>\n",
       "      <td>上海/杨浦区/长阳路/ 隆昌路619号城市概念创意园区/</td>\n",
       "      <td>上海</td>\n",
       "      <td>12.0</td>\n",
       "    </tr>\n",
       "    <tr>\n",
       "      <th>1</th>\n",
       "      <td>2017-11-07 17:37:29</td>\n",
       "      <td>https://www.lagou.com/jobs/3455363.html</td>\n",
       "      <td>python开发工程师(数据挖...</td>\n",
       "      <td>{\"field\":\"社交网络\",\"scale\":\"150-500人\",\"homepage\":...</td>\n",
       "      <td>1.509961e+09</td>\n",
       "      <td>本科及以上 /</td>\n",
       "      <td>经验1-3年 /</td>\n",
       "      <td>15k-30k</td>\n",
       "      <td>Python/大数据/信息安全</td>\n",
       "      <td>&lt;p&gt;职位描述：&lt;/p&gt;&lt;p&gt;1、负责安全数据分析平台的设计与开发，包括数据采集与清洗、数据...</td>\n",
       "      <td>北京/朝阳区/望京/ 阜通东大街1号望京Soho塔2,B座20层/</td>\n",
       "      <td>北京</td>\n",
       "      <td>15.0</td>\n",
       "    </tr>\n",
       "    <tr>\n",
       "      <th>2</th>\n",
       "      <td>2017-11-07 17:37:27</td>\n",
       "      <td>https://www.lagou.com/jobs/3114010.html</td>\n",
       "      <td>python爬虫--金融科技</td>\n",
       "      <td>{\"field\":\"金融,企业服务\",\"scale\":\"50-150人\",\"homepage...</td>\n",
       "      <td>1.509466e+09</td>\n",
       "      <td>本科及以上 /</td>\n",
       "      <td>经验不限 /</td>\n",
       "      <td>15k-30k</td>\n",
       "      <td>爬虫/大数据/数据/服务器端/Python/全栈</td>\n",
       "      <td>&lt;p&gt;北京原始会投资管理有限公司（http://www.yuanshihui.com/）&lt;/...</td>\n",
       "      <td>北京/朝阳区/三元桥/ 网信大厦A座12层/</td>\n",
       "      <td>北京</td>\n",
       "      <td>15.0</td>\n",
       "    </tr>\n",
       "    <tr>\n",
       "      <th>3</th>\n",
       "      <td>2017-11-07 17:37:27</td>\n",
       "      <td>https://www.lagou.com/jobs/3118058.html</td>\n",
       "      <td>python爬虫--fintech方向</td>\n",
       "      <td>{\"field\":\"金融,企业服务\",\"scale\":\"50-150人\",\"homepage...</td>\n",
       "      <td>1.509466e+09</td>\n",
       "      <td>本科及以上 /</td>\n",
       "      <td>经验不限 /</td>\n",
       "      <td>15k-30k</td>\n",
       "      <td>爬虫/大数据/数据/服务器端/Python/全栈</td>\n",
       "      <td>&lt;p&gt;北京原始会投资管理有限公司（http://www.yuanshihui.com/）&lt;/...</td>\n",
       "      <td>北京/朝阳区/三元桥/ 网信大厦A座12层/</td>\n",
       "      <td>北京</td>\n",
       "      <td>15.0</td>\n",
       "    </tr>\n",
       "    <tr>\n",
       "      <th>4</th>\n",
       "      <td>2017-11-07 17:37:25</td>\n",
       "      <td>https://www.lagou.com/jobs/3071379.html</td>\n",
       "      <td>python爬虫工程师--人工智能</td>\n",
       "      <td>{\"field\":\"金融,企业服务\",\"scale\":\"50-150人\",\"homepage...</td>\n",
       "      <td>1.509466e+09</td>\n",
       "      <td>本科及以上 /</td>\n",
       "      <td>经验不限 /</td>\n",
       "      <td>15k-30k</td>\n",
       "      <td>爬虫/大数据/数据/服务器端/Python/全栈</td>\n",
       "      <td>&lt;p&gt;北京原始会投资管理有限公司（http://www.yuanshihui.com/）&lt;/...</td>\n",
       "      <td>北京/朝阳区/三元桥/ 网信大厦A座12层/</td>\n",
       "      <td>北京</td>\n",
       "      <td>15.0</td>\n",
       "    </tr>\n",
       "  </tbody>\n",
       "</table>\n",
       "</div>"
      ],
      "text/plain": [
       "                __time                                    __url  \\\n",
       "0  2017-11-07 17:37:31  https://www.lagou.com/jobs/1448499.html   \n",
       "1  2017-11-07 17:37:29  https://www.lagou.com/jobs/3455363.html   \n",
       "2  2017-11-07 17:37:27  https://www.lagou.com/jobs/3114010.html   \n",
       "3  2017-11-07 17:37:27  https://www.lagou.com/jobs/3118058.html   \n",
       "4  2017-11-07 17:37:25  https://www.lagou.com/jobs/3071379.html   \n",
       "\n",
       "                positionName  \\\n",
       "0  C++/Php/Python/Nodejs开...   \n",
       "1         python开发工程师(数据挖...   \n",
       "2             python爬虫--金融科技   \n",
       "3        python爬虫--fintech方向   \n",
       "4          python爬虫工程师--人工智能   \n",
       "\n",
       "                                             company  publish_time education  \\\n",
       "0  {\"field\":\"数据服务,企业服务\",\"scale\":\"<p class=\\\"finan...  1.509961e+09   本科及以上 /   \n",
       "1  {\"field\":\"社交网络\",\"scale\":\"150-500人\",\"homepage\":...  1.509961e+09   本科及以上 /   \n",
       "2  {\"field\":\"金融,企业服务\",\"scale\":\"50-150人\",\"homepage...  1.509466e+09   本科及以上 /   \n",
       "3  {\"field\":\"金融,企业服务\",\"scale\":\"50-150人\",\"homepage...  1.509466e+09   本科及以上 /   \n",
       "4  {\"field\":\"金融,企业服务\",\"scale\":\"50-150人\",\"homepage...  1.509466e+09   本科及以上 /   \n",
       "\n",
       "    JingYan   salary            position_label  \\\n",
       "0  经验1-3年 /  12k-24k                   Node.js   \n",
       "1  经验1-3年 /  15k-30k           Python/大数据/信息安全   \n",
       "2    经验不限 /  15k-30k  爬虫/大数据/数据/服务器端/Python/全栈   \n",
       "3    经验不限 /  15k-30k  爬虫/大数据/数据/服务器端/Python/全栈   \n",
       "4    经验不限 /  15k-30k  爬虫/大数据/数据/服务器端/Python/全栈   \n",
       "\n",
       "                                         destription  \\\n",
       "0  <p>工作职责：<br>1. 负责大数据方向产品化工作<br>2. 负责产品运营管理平台建设...   \n",
       "1  <p>职位描述：</p><p>1、负责安全数据分析平台的设计与开发，包括数据采集与清洗、数据...   \n",
       "2  <p>北京原始会投资管理有限公司（http://www.yuanshihui.com/）</...   \n",
       "3  <p>北京原始会投资管理有限公司（http://www.yuanshihui.com/）</...   \n",
       "4  <p>北京原始会投资管理有限公司（http://www.yuanshihui.com/）</...   \n",
       "\n",
       "                             address city  min_salary  \n",
       "0       上海/杨浦区/长阳路/ 隆昌路619号城市概念创意园区/   上海        12.0  \n",
       "1  北京/朝阳区/望京/ 阜通东大街1号望京Soho塔2,B座20层/   北京        15.0  \n",
       "2             北京/朝阳区/三元桥/ 网信大厦A座12层/   北京        15.0  \n",
       "3             北京/朝阳区/三元桥/ 网信大厦A座12层/   北京        15.0  \n",
       "4             北京/朝阳区/三元桥/ 网信大厦A座12层/   北京        15.0  "
      ]
     },
     "execution_count": 29,
     "metadata": {},
     "output_type": "execute_result"
    }
   ],
   "source": [
    "print new_df.info()\n",
    "new_df.head()"
   ]
  },
  {
   "cell_type": "code",
   "execution_count": 41,
   "metadata": {},
   "outputs": [
    {
     "data": {
      "image/png": "[encoded data removed]",
      "text/plain": [
       "<matplotlib.figure.Figure at 0xab68630>"
      ]
     },
     "metadata": {},
     "output_type": "display_data"
    }
   ],
   "source": [
    "# 查看薪酬分布\n",
    "fig = pyplot.figure(figsize=(36, 20))\n",
    "ax2 = pyplot.subplot(111)\n",
    "rect = ax2.hist(new_df['min_salary'], bins = 30)\n",
    "ax2.set_title(u'薪酬分布', fontproperties = zhfont)\n",
    "ax2.set_xlabel(u'K / 月', fontproperties = zhfont)\n",
    "pyplot.xticks(range(5,100,5))\n",
    "pyplot.savefig('min_salary.png')\n",
    "pyplot.show()"
   ]
  },
  {
   "cell_type": "markdown",
   "metadata": {},
   "source": [
    "## 不同城市薪酬分布"
   ]
  },
  {
   "cell_type": "code",
   "execution_count": 33,
   "metadata": {
    "collapsed": true
   },
   "outputs": [],
   "source": [
    "city_count_salary = new_df.groupby(['city'])['min_salary']\n",
    "data_by7city = city_count[0:7]"
   ]
  },
  {
   "cell_type": "code",
   "execution_count": 37,
   "metadata": {},
   "outputs": [
    {
     "data": {
      "text/plain": [
       "[array([ 15.,  15.,  15.,  15.,  15.,  15.,  15.,  15.,  15.,  15.,  15.,\n",
       "         15.,  15.,  15.,  15.,  15.,  15.,  15.,  15.,  15.,  15.,  15.,\n",
       "         15.,  25.,  10.,  20.,  12.,  12.,  13.,  15.,  10.,  20.,  20.,\n",
       "         25.,  20.,  18.,  15.,  10.,   8.,  20.,  10.,  10.,  10.,  13.,\n",
       "         15.,  25.,  18.,  19.,  25.,  25.,  15.,  15.,   8.,  15.,   8.,\n",
       "         15.,  10.,  10.,  10.,  20.,  20.,  20.,  12.,  10.,  10.,  15.,\n",
       "         15.,  15.,  15.,  20.,  15.,  15.,  15.,  10.,  20.,  18.,   5.,\n",
       "         15.,  12.,  10.,  15.,  16.,  20.,  15.,  12.,  10.,  15.,  12.,\n",
       "         15.,  10.,   7.,  15.,  30.,  20.,  15.,  20.,  15.,  15.,   8.,\n",
       "         12.,  10.,  20.,   6.,   6.,  25.,  15.,  13.,  20.,  18.,  12.,\n",
       "         13.,  15.,  20.,  15.,   6.,   6.,   8.,  20.,  20.,  20.,  25.,\n",
       "         15.,  10.,  25.,  18.,  15.,   5.,   8.,  15.,  18.,   8.,  10.,\n",
       "         10.,  20.,  15.,  10.,  10.,  15.,  15.,  25.,  20.,  10.,  15.,\n",
       "         15.,  18.,   5.,  10.,  15.,  15.,  10.,  10.,  20.,  10.,  10.,\n",
       "         20.,  12.,  15.,   8.,   3.,  20.,  15.,  15.,  10.,  18.,   8.,\n",
       "         10.,  18.,  18.,  18.,  20.,  15.,  18.,  10.,  25.,   8.,  20.,\n",
       "         20.,  10.,  18.,  15.,  10.,  15.,  12.,  15.,  10.,  14.,  18.,\n",
       "         10.,   6.,  10.,  15.,  10.,  15.,  20.,  25.,  15.,  15.,  18.,\n",
       "         10.,  18.,  10.,  15.,   6.,  20.,  10.,  20.,  10.,  10.,  25.,\n",
       "         15.,  15.,  20.,  15.,  15.,  30.,  20.,  15.,  18.,  20.,  25.,\n",
       "         18.,   6.,  15.,  18.,  20.,  20.,  10.,  13.,  12.,  12.,  10.,\n",
       "         10.,  25.,  10.,  15.,  10.,  15.,   4.,  18.,  15.,  21.,  10.,\n",
       "         10.,  15.,  25.,  15.,  10.,  20.,  15.,  20.,  25.,  15.,  20.,\n",
       "         15.,  20.,  10.,  10.,  10.,  25.,  20.,  10.,  15.,  10.,  20.,\n",
       "         15.,   8.,  12.,  15.,  15.,  13.,  10.,  20.,  15.,  27.,  15.,\n",
       "         15.,  18.,  15.,  10.,  20.,  20.,  10.,  15.,  10.,  20.,  15.,\n",
       "         10.,  20.,  20.,  10.,  20.,  10.,  15.,  12.,  15.,  20.,  10.,\n",
       "         10.,  20.,  10.,  20.,  20.,  20.,  35.,  20.,  10.,  10.,  15.,\n",
       "         10.,  25.,  15.,  16.,  15.,  11.,  10.,  10.,  10.,  26.,  10.,\n",
       "         15.,  20.,  15.,   8.,  25.,  25.,  20.,  10.,  15.,  10.,  15.,\n",
       "         15.,  25.,  20.,  20.,  20.,  20.,  20.,  15.,  25.,  10.,  35.,\n",
       "         12.,  15.,  20.,  15.,  20.,  13.,  20.,  15.,  15.,  10.,  15.,\n",
       "         15.,  15.,  10.,  15.,  20.,  15.,  15.,  20.,  15.,  25.,  15.,\n",
       "         15.,  15.,  15.,  20.,  15.,  15.,  15.,   6.,  15.,  15.,  18.,\n",
       "         25.,  20.,  15.,  20.,  25.,  18.,  25.,  26.,  15.,  25.,  13.,\n",
       "         10.,  18.,  10.,  15.,  25.,  25.,  20.,  15.,  20.,  12.,   8.,\n",
       "         20.,  15.,  18.,  15.,  15.,  15.,  20.,  15.,  15.,  20.,  15.,\n",
       "         20.,  15.,  20.,  20.,  20.,   8.,  15.,  15.,  15.,  15.,  15.,\n",
       "          8.,  20.,  15.,  20.,  18.,  35.,  15.,  20.,  15.,  15.,  20.,\n",
       "         15.,  20.,  20.,  15.,  15.,  15.,  18.,  25.,   6.,  25.,  13.,\n",
       "         25.,  12.,  25.,   8.,  15.,  14.,  20.,  10.,  15.,  20.,  15.,\n",
       "         18.,  25.,  10.,  18.,  15.,  20.,  15.,  20.,  25.,  15.,  25.,\n",
       "         10.,  20.,  15.,  18.,  20.,  18.,  15.,  25.,  25.,  18.,  20.,\n",
       "         15.,  15.,  15.,  20.,  15.,  15.,  15.,  25.,  15.,  15.,  15.,\n",
       "         15.,  15.,  20.,  20.,  13.,  25.,  20.,  25.,  13.,  15.,  15.,\n",
       "         18.,  25.,  15.,  20.,  15.,  20.,  15.,  15.,  10.,  20.,  15.,\n",
       "         20.,  20.,  15.,   8.,  15.,  15.,  15.,  25.,  15.,  12.,  18.]),\n",
       " array([ 12.,  15.,  15.,  15.,   2.,  10.,  12.,  12.,  10.,  15.,  15.,\n",
       "         10.,  15.,  17.,  15.,   9.,  12.,  12.,  10.,  15.,  10.,   8.,\n",
       "         15.,  16.,   6.,  12.,  13.,  15.,  16.,  18.,   8.,  10.,  25.,\n",
       "         15.,   5.,   5.,  10.,  12.,  10.,   5.,  10.,  15.,  10.,  20.,\n",
       "         10.,  15.,  15.,  15.,  12.,  18.,  15.,  12.,  10.,  10.,  12.,\n",
       "         15.,  15.,  15.,  15.,  15.,   9.,  10.,  10.,  15.,  15.,  15.,\n",
       "         10.,  13.,  15.,  10.,  18.,  10.,  10.,  10.,  20.,  20.,  20.,\n",
       "         13.,   7.,  25.,  20.,  10.,  15.,  12.,  20.,  10.,  10.,  18.,\n",
       "         15.,  15.,  15.,  15.,  15.,  10.,  15.,  10.,   6.,  20.,  10.,\n",
       "         10.,  13.,  13.,  13.,  10.,  15.,  14.,  10.,  10.,  18.,  18.,\n",
       "          5.,  13.,  10.,  15.,  12.,  15.,  10.,   8.,  17.,  16.,  15.,\n",
       "         20.,  15.,  20.,  12.,   8.,  20.,  15.,  15.,  15.,  10.,  10.,\n",
       "          7.,  10.,  12.,  20.,  10.,  12.,  15.,  10.,  10.,  16.,  12.,\n",
       "         15.,  10.,  10.,  20.,  12.,  10.,  18.,  15.,  15.,  10.,  25.,\n",
       "         18.,  20.,  10.,  10.,  20.,  10.,  11.,  10.,  25.,  15.,  15.,\n",
       "         10.,   8.,   8.,  15.,  15.,  10.,  10.,   8.,  15.,  10.,  16.,\n",
       "         15.,  12.,  10.,  15.,   7.,  20.,  13.,   8.,  15.,  18.,  20.,\n",
       "         20.,  12.,  13.,  15.,  20.,  10.,  15.,  10.,  15.,  10.,  15.,\n",
       "         10.,  12.,  12.,  18.,  10.,  15.,  15.,  15.,  12.,  10.,  10.,\n",
       "         15.,  10.,  15.,  15.,  20.,  10.,  10.,  10.,  15.,  10.,  13.,\n",
       "         12.,  18.,  15.,  13.,  15.,  15.,  10.,  15.,  15.,  15.,  12.,\n",
       "         12.,  15.,  15.,  15.,  15.,  10.,  10.,  10.,  18.,   9.,  15.]),\n",
       " array([ 15.,  15.,  15.,  18.,  18.,  18.,  18.,  18.,  18.,  18.,  10.,\n",
       "          8.,  20.,  15.,  12.,  10.,  15.,  15.,   8.,   6.,  11.,   8.,\n",
       "         15.,  10.,  15.,   7.,  10.,  20.,  15.,  15.,  15.,  12.,  12.,\n",
       "         10.,  15.,  20.,   7.,   5.,   8.,  15.,  15.,  15.,  15.,   8.,\n",
       "         15.,   8.,  15.,   9.,   8.,  10.,  15.,   8.,  10.,   4.,   8.,\n",
       "         12.,   8.,   8.,   8.,  15.,  14.,   6.,  11.,  15.,   8.,  12.,\n",
       "         18.,   5.,   6.,   8.,  12.,  15.,  10.,  10.,  15.,  10.,  15.,\n",
       "         10.,  15.,  15.,  15.,  10.,  15.,  18.,  15.,  15.,  15.,  12.,\n",
       "          7.,  15.,   7.,  11.,  15.,   9.,  15.,   6.,  10.,  10.,  10.,\n",
       "          8.,  10.,  18.,  15.,  20.,  15.,  15.,  10.,  15.,  15.,  10.,\n",
       "         15.,  18.,  15.,  15.,  15.,  10.,  15.,  15.,  20.,  10.,  15.,\n",
       "         16.,  10.,   8.,  20.,  10.,  16.,  18.,  15.,  10.,   9.,  10.,\n",
       "         15.,  20.,  15.,  10.,  13.,  10.,   8.,  18.,  12.,  15.,  15.,\n",
       "         18.,  15.,  16.,  10.,  10.,  15.,  13.,   5.,  13.,  14.,  15.,\n",
       "          8.,  12.,  10.,   9.,  12.,  15.,  10.,  20.,  10.,   7.,  10.,\n",
       "         15.,  10.,  10.,  15.,  15.,  15.,  30.,  20.,  14.,  18.,  18.,\n",
       "         18.,  10.,  12.,  18.,  20.,  10.]),\n",
       " array([ 10.,  25.,  25.,  15.,   8.,  16.,   8.,  15.,  12.,  10.,   6.,\n",
       "          4.,  20.,  10.,  10.,  10.,   4.,   6.,   9.,  15.,   7.,   4.,\n",
       "          4.,  15.,  15.,  15.,   8.,  15.,  20.,   8.,   8.,   5.,   8.,\n",
       "         10.,   3.,   8.,  10.,   8.,  15.,  15.,  20.,  10.,  12.,  10.,\n",
       "         10.,   6.,  15.,  13.,  20.,  18.,   8.,  15.,  15.,   8.,  10.,\n",
       "         15.,   5.,  10.,  20.,  10.,  15.,  10.,  25.,  10.,   8.,  10.,\n",
       "         15.,  12.,  10.,  15.,  12.,   8.,  11.,   8.,  15.,  20.,  10.,\n",
       "          6.,  15.,  10.,  10.,  25.,  15.,   8.,  13.,  12.,  15.,  10.,\n",
       "         12.,  15.,   8.,  15.,  15.,  12.,  15.,  15.,  10.,  25.,  15.,\n",
       "         15.,  10.,  10.,  15.]),\n",
       " array([ 10.,  10.,   3.,  10.,   6.,   4.,  15.,  10.,  15.,  10.,   8.,\n",
       "         10.,  10.,   7.,  10.,   8.,   8.,   8.,   9.,  15.,   5.,   8.,\n",
       "          8.,   6.,   7.,   6.,   8.,   5.,   8.,   3.,  12.,   6.,   8.,\n",
       "          8.,   8.,   8.,  10.,   8.,   7.,  10.,   5.,  12.,   8.,  15.,\n",
       "         10.,  10.,   8.,  10.,   8.,  10.,   7.,  12.,   6.,  15.,   8.,\n",
       "          8.,  15.,   8.,   5.,   8.,   8.,   8.,  10.,  12.,   8.,   8.,\n",
       "          5.,  12.,  15.,   8.,  10.,  15.,  10.,   9.,  20.,  15.,   5.,\n",
       "          8.,  10.,   8.,   5.,   8.,  10.,  10.,  25.,  15.,   9.,  15.,\n",
       "         20.,   8.]),\n",
       " array([ 10.,   8.,   4.,  10.,   8.,   5.,  15.,   5.,   8.,  20.,  20.,\n",
       "          6.,   9.,  10.,   8.,   7.,  10.,  10.,   5.,   6.,  10.,   8.,\n",
       "          8.,   8.,   4.,   6.,   6.,  10.,   5.,  10.,   5.,  12.,  10.,\n",
       "         10.,  12.,   8.,   4.,  13.,   6.,  10.,  10.,   8.,   8.,   7.,\n",
       "         10.,  10.,   8.,   5.,   7.,  10.,   8.,  12.,  10.,   8.,  10.,\n",
       "         10.,   6.,   7.,   8.,   8.,   6.,  10.,   3.]),\n",
       " array([  5.,  12.,   8.,   8.,   4.,  10.,  10.,  10.,  10.,  15.,  10.,\n",
       "          8.,  10.,   8.,  10.,  12.,   6.,   6.,   7.,  10.,   8.,  10.,\n",
       "         15.,   5.,  12.,   7.,   6.,   7.,  15.,   9.,   7.,  10.,  12.,\n",
       "         10.,  15.,  12.,   8.,   8.,   8.,  15.,  13.,  15.,  15.,  10.,\n",
       "          8.,  10.,  10.])]"
      ]
     },
     "execution_count": 37,
     "metadata": {},
     "output_type": "execute_result"
    }
   ],
   "source": [
    "data_by7city_df = []\n",
    "for group in data_by7city.index:\n",
    "    v = city_count_salary.get_group(group).values\n",
    "    data_by7city_df.append(v)\n",
    "data_by7city_df"
   ]
  },
  {
   "cell_type": "code",
   "execution_count": 36,
   "metadata": {},
   "outputs": [
    {
     "data": {
      "text/plain": [
       "Index([u'北京', u'上海', u'深圳', u'杭州', u'广州', u'成都', u'武汉'], dtype='object')"
      ]
     },
     "execution_count": 36,
     "metadata": {},
     "output_type": "execute_result"
    }
   ],
   "source": [
    "data_by7city.index"
   ]
  },
  {
   "cell_type": "code",
   "execution_count": 42,
   "metadata": {},
   "outputs": [
    {
     "data": {
      "image/png": "[encoded data removed]",
      "text/plain": [
       "<matplotlib.figure.Figure at 0xfe34908>"
      ]
     },
     "metadata": {},
     "output_type": "display_data"
    }
   ],
   "source": [
    "# 查看不同城市薪酬分布\n",
    "fig = pyplot.figure(figsize=(36,20))\n",
    "ax3 = pyplot.subplot(111)\n",
    "rect = ax3.boxplot(data_by7city_df)\n",
    "\n",
    "ax3.set_xticklabels(data_by7city.index, fontproperties = zhfont)\n",
    "pyplot.yticks(range(0,60,5))\n",
    "\n",
    "ax3.set_title(u'不同城市薪酬分布', fontproperties = zhfont)\n",
    "ax3.set_ylabel(u'薪酬 K / 月', fontproperties = zhfont)\n",
    "\n",
    "pyplot.savefig('data_by7city_min_salary.png')\n",
    "pyplot.show()"
   ]
  },
  {
   "cell_type": "markdown",
   "metadata": {},
   "source": [
    "各地的薪酬相差无几，较高的在北京、深圳、上海，成都、广州稍低。。。为什么我的箱型图上会有圈圈呢？\n",
    "\n",
    "## 工作经验分布"
   ]
  },
  {
   "cell_type": "code",
   "execution_count": 44,
   "metadata": {
    "collapsed": true
   },
   "outputs": [],
   "source": [
    "def JingYan_split(jingyan):\n",
    "    return jingyan.split(' ')[0]  #return experience"
   ]
  },
  {
   "cell_type": "code",
   "execution_count": 45,
   "metadata": {
    "collapsed": true
   },
   "outputs": [],
   "source": [
    "new_df['JingYan'] = new_df.JingYan.apply(JingYan_split)"
   ]
  },
  {
   "cell_type": "code",
   "execution_count": 46,
   "metadata": {
    "collapsed": true
   },
   "outputs": [],
   "source": [
    "# 将“经验不限”和“应届毕业生”等同于工作经验1年以下\n",
    "for i in range(len(new_df['JingYan'])):\n",
    "    #print new_df['JingYan'].iloc[i]\n",
    "    if new_df['JingYan'].iloc[i] in [u'经验不限', u'经验应届毕业生', u'经验1年以下']:\n",
    "        new_df['JingYan'].iloc[i] = u'经验1年以下'"
   ]
  },
  {
   "cell_type": "code",
   "execution_count": 47,
   "metadata": {
    "collapsed": true
   },
   "outputs": [],
   "source": [
    "JingYan_count = new_df.groupby(['JingYan'])['positionName'].count()"
   ]
  },
  {
   "cell_type": "code",
   "execution_count": 48,
   "metadata": {
    "collapsed": true
   },
   "outputs": [],
   "source": [
    "value_by_exp = pandas.DataFrame([JingYan_count.index, JingYan_count.values]).T\n",
    "value_by_exp.columns = ['exp', 'count']"
   ]
  },
  {
   "cell_type": "code",
   "execution_count": 49,
   "metadata": {
    "collapsed": true
   },
   "outputs": [],
   "source": [
    "sort_by_exp = value_by_exp.copy()"
   ]
  },
  {
   "cell_type": "code",
   "execution_count": 51,
   "metadata": {},
   "outputs": [],
   "source": [
    "sort_by_exp['sortby'] = pandas.Series([2,1,3,4])"
   ]
  },
  {
   "cell_type": "code",
   "execution_count": 52,
   "metadata": {
    "collapsed": true
   },
   "outputs": [],
   "source": [
    "sort_by_exp.sort_values('sortby', inplace=True)"
   ]
  },
  {
   "cell_type": "code",
   "execution_count": 53,
   "metadata": {},
   "outputs": [
    {
     "data": {
      "text/html": [
       "<div>\n",
       "<style>\n",
       "    .dataframe thead tr:only-child th {\n",
       "        text-align: right;\n",
       "    }\n",
       "\n",
       "    .dataframe thead th {\n",
       "        text-align: left;\n",
       "    }\n",
       "\n",
       "    .dataframe tbody tr th {\n",
       "        vertical-align: top;\n",
       "    }\n",
       "</style>\n",
       "<table border=\"1\" class=\"dataframe\">\n",
       "  <thead>\n",
       "    <tr style=\"text-align: right;\">\n",
       "      <th></th>\n",
       "      <th>exp</th>\n",
       "      <th>count</th>\n",
       "      <th>sortby</th>\n",
       "    </tr>\n",
       "  </thead>\n",
       "  <tbody>\n",
       "    <tr>\n",
       "      <th>1</th>\n",
       "      <td>经验1年以下</td>\n",
       "      <td>178</td>\n",
       "      <td>1</td>\n",
       "    </tr>\n",
       "    <tr>\n",
       "      <th>0</th>\n",
       "      <td>经验1-3年</td>\n",
       "      <td>579</td>\n",
       "      <td>2</td>\n",
       "    </tr>\n",
       "    <tr>\n",
       "      <th>2</th>\n",
       "      <td>经验3-5年</td>\n",
       "      <td>574</td>\n",
       "      <td>3</td>\n",
       "    </tr>\n",
       "    <tr>\n",
       "      <th>3</th>\n",
       "      <td>经验5-10年</td>\n",
       "      <td>73</td>\n",
       "      <td>4</td>\n",
       "    </tr>\n",
       "  </tbody>\n",
       "</table>\n",
       "</div>"
      ],
      "text/plain": [
       "       exp count  sortby\n",
       "1   经验1年以下   178       1\n",
       "0   经验1-3年   579       2\n",
       "2   经验3-5年   574       3\n",
       "3  经验5-10年    73       4"
      ]
     },
     "execution_count": 53,
     "metadata": {},
     "output_type": "execute_result"
    }
   ],
   "source": [
    "sort_by_exp"
   ]
  },
  {
   "cell_type": "code",
   "execution_count": 57,
   "metadata": {},
   "outputs": [
    {
     "data": {
      "image/png": "[encoded data removed]",
      "text/plain": [
       "<matplotlib.figure.Figure at 0xab8b4e0>"
      ]
     },
     "metadata": {},
     "output_type": "display_data"
    }
   ],
   "source": [
    "# 绘制经验条形图\n",
    "fig = pyplot.figure(figsize=(36,20))\n",
    "ax4 = pyplot.subplot(111)\n",
    "rect = ax4.bar(numpy.arange(len(sort_by_exp)), sort_by_exp['count'], width=0.6)\n",
    "\n",
    "auto_xtricks(rect, sort_by_exp.index)\n",
    "ax4.set_xticklabels(sort_by_exp['exp'], fontproperties = zhfont)\n",
    "ax4.set_title(u'工作经验分布', fontproperties = zhfont)\n",
    "pyplot.savefig('JingYan.png')\n",
    "pyplot.show()"
   ]
  },
  {
   "cell_type": "markdown",
   "metadata": {},
   "source": [
    "python语言开发的工作经验需求集中在1-3年；python语言目前较为年轻，国内引进较晚，暂时没有出现10年以上工作经验需求。。。呃。。。？\n",
    "\n",
    "## 不同工作经验薪酬分布"
   ]
  },
  {
   "cell_type": "code",
   "execution_count": 58,
   "metadata": {
    "collapsed": true
   },
   "outputs": [],
   "source": [
    "salary_group_by_exp = new_df.groupby(['JingYan'])['min_salary']"
   ]
  },
  {
   "cell_type": "code",
   "execution_count": 59,
   "metadata": {},
   "outputs": [
    {
     "data": {
      "text/plain": [
       "[array([ 15.,  15.,  15.,  15.,  15.,  15.,  15.,  15.,  15.,  15.,  15.,\n",
       "         15.,  15.,  15.,  15.,  15.,  15.,  15.,  15.,  15.,   2.,  18.,\n",
       "         10.,   5.,  18.,   8.,  15.,  12.,  10.,  20.,   8.,  20.,   6.,\n",
       "          4.,   8.,  10.,   8.,   6.,  10.,   4.,  15.,   3.,   7.,   6.,\n",
       "         20.,  10.,   4.,   4.,   8.,  10.,  18.,   5.,  10.,   5.,   7.,\n",
       "         20.,   8.,  20.,  15.,   5.,  12.,  13.,  10.,   8.,  15.,   5.,\n",
       "          8.,   7.,  10.,   8.,  20.,  10.,   4.,   8.,   3.,   4.,   8.,\n",
       "          5.,   6.,  10.,  18.,   8.,   5.,   3.,   8.,   3.,   8.,   4.,\n",
       "         20.,  20.,   9.,  15.,   8.,   3.,  13.,  10.,  15.,  12.,   5.,\n",
       "         25.,   8.,   9.,   8.,  15.,  15.,   6.,  12.,  10.,   7.,  15.,\n",
       "          5.,   3.,  10.,   7.,   4.,  10.,   2.,  15.,  14.,  15.,  10.,\n",
       "          3.,  20.,   8.,   8.,   5.,  10.,  15.,   4.,  10.,  16.,  11.,\n",
       "         10.,  10.,   3.,  15.,   5.,  12.,   8.,  15.,  10.,  15.,  10.,\n",
       "         10.,   6.,  10.,  10.,  20.,   8.,  10.,   8.,  15.,   9.,  15.,\n",
       "          8.,   5.,   8.,   8.,  10.,  10.,   9.,  10.,  10.,   8.,  15.,\n",
       "         15.,  10.,  13.,  15.,  13.,  10.,  15.,  15.,  15.,  15.,  20.,\n",
       "         18.,  20.]),\n",
       " array([ 12.,  15.,  15.,  15.,  15.,  15.,  10.,   5.,  12.,  13.,  15.,\n",
       "         10.,  18.,  18.,  18.,  10.,  10.,  15.,  10.,   8.,   6.,   8.,\n",
       "         12.,  18.,  10.,   4.,  12.,  10.,  10.,   8.,  10.,   8.,  13.,\n",
       "         15.,   8.,  10.,   5.,   8.,  12.,   5.,   8.,  12.,  10.,   9.,\n",
       "         10.,  10.,   3.,   7.,   4.,   6.,  10.,  15.,  15.,  15.,  10.,\n",
       "          8.,   6.,   8.,  15.,   4.,  10.,  11.,  10.,   6.,   8.,   9.,\n",
       "          8.,   9.,   6.,  10.,  15.,   6.,  13.,  10.,  15.,  15.,  15.,\n",
       "         20.,   8.,  15.,  10.,   7.,  10.,  10.,  15.,   7.,  10.,  15.,\n",
       "          7.,  15.,  15.,   8.,  15.,  12.,  10.,   8.,  15.,  12.,  10.,\n",
       "         15.,   5.,   8.,  20.,   8.,  15.,  10.,  15.,  15.,  10.,   5.,\n",
       "          6.,   7.,   8.,   8.,   5.,   8.,  10.,  10.,  10.,   6.,   8.,\n",
       "          9.,   6.,  15.,  10.,  15.,  15.,  12.,  15.,  20.,   5.,   7.,\n",
       "          8.,   5.,  10.,   8.,   6.,  10.,   6.,  20.,  10.,   5.,   8.,\n",
       "          4.,   8.,  10.,   8.,   6.,   8.,  15.,   6.,   8.,   5.,   8.,\n",
       "         10.,   8.,  15.,   6.,  10.,   5.,  12.,  20.,   6.,   8.,   6.,\n",
       "          7.,  10.,  15.,  12.,   8.,   8.,  10.,   8.,  15.,   6.,  10.,\n",
       "          5.,  20.,   6.,  10.,   6.,  10.,  15.,  15.,  11.,  10.,  12.,\n",
       "          5.,  15.,  12.,   5.,  12.,  15.,   6.,  10.,   8.,  10.,   8.,\n",
       "         12.,  10.,  10.,  12.,   8.,  10.,  10.,  15.,   8.,  10.,  10.,\n",
       "          8.,  10.,   8.,  10.,   6.,   5.,   8.,   7.,  10.,   8.,   5.,\n",
       "          8.,  10.,  18.,   5.,  18.,   6.,  20.,  15.,  18.,  10.,   7.,\n",
       "          8.,   8.,  12.,  15.,   6.,  10.,  10.,   8.,  15.,  10.,  10.,\n",
       "          8.,   4.,  15.,  10.,  15.,  10.,  10.,   6.,  10.,  20.,  15.,\n",
       "         13.,  10.,   6.,  15.,  10.,   4.,  10.,  10.,  10.,  10.,   5.,\n",
       "         10.,  10.,   7.,  15.,   5.,  10.,  10.,  15.,  18.,   8.,  12.,\n",
       "          6.,   6.,  10.,  15.,  10.,   7.,  20.,  10.,  13.,  12.,   8.,\n",
       "         12.,  10.,  15.,  10.,  15.,  12.,   7.,  10.,   6.,  15.,  18.,\n",
       "          7.,   7.,  10.,   6.,  10.,  10.,   7.,  15.,   5.,  10.,  15.,\n",
       "          6.,  20.,  10.,  10.,  11.,   9.,  10.,   5.,  10.,  10.,   6.,\n",
       "          8.,  10.,  10.,   6.,  10.,  10.,   8.,   5.,  10.,  10.,  10.,\n",
       "          8.,  13.,  15.,   6.,  10.,   8.,   8.,   5.,   8.,  12.,  10.,\n",
       "          7.,  10.,   3.,  15.,  10.,  15.,  18.,  15.,   6.,  10.,  10.,\n",
       "          8.,  20.,  10.,   8.,   8.,  16.,  15.,  15.,  20.,  15.,  10.,\n",
       "         10.,   5.,   6.,  20.,  10.,   8.,   7.,  20.,   8.,   8.,   8.,\n",
       "          5.,   8.,  15.,  10.,  10.,   7.,   7.,  10.,   8.,  35.,  12.,\n",
       "          8.,  10.,   8.,  12.,   8.,  10.,  10.,  10.,  15.,  10.,  15.,\n",
       "         10.,   8.,  12.,   8.,   6.,  10.,  15.,  10.,  10.,  10.,  15.,\n",
       "         20.,  10.,  10.,   8.,  10.,  10.,  15.,  11.,  12.,  10.,   3.,\n",
       "          8.,   6.,  16.,   6.,  15.,  10.,  13.,  10.,   8.,  10.,   9.,\n",
       "         15.,  15.,  15.,  10.,  10.,  15.,  10.,   6.,  15.,  15.,  15.,\n",
       "          9.,  10.,  15.,   8.,  12.,  15.,   5.,  15.,  10.,  10.,  15.,\n",
       "          8.,  10.,  10.,   6.,   8.,  10.,   9.,  18.,  13.,  15.,  10.,\n",
       "         18.,   5.,   8.,  12.,  12.,  10.,  12.,  10.,   5.,   8.,  12.,\n",
       "          8.,  20.,  15.,  15.,   7.,   8.,  20.,  13.,   6.,  15.,   8.,\n",
       "         12.,   8.,  15.,  10.,   6.,  10.,   8.,  15.,  15.,  12.,   8.,\n",
       "         15.,  15.,  15.,  10.,   8.,   3.,  15.,   6.,  10.,  10.,  12.,\n",
       "         10.,   6.,   7.,  10.,  12.,  10.,  10.,   8.,  15.,  10.,   7.,\n",
       "         15.,  15.,  10.,  10.,  10.,  15.,  15.,   9.,   8.,  10.,  15.,\n",
       "         10.,  18.,  20.,  10.,  15.,  15.,  15.,  10.,  10.,   8.,  12.,\n",
       "          8.,  15.,  15.,  15.,  10.,  15.,  10.,   8.,  15.,  20.,  15.,\n",
       "         13.,  15.,   5.,  10.,  10.,   7.,  15.,  15.,  10.,   6.,  10.,\n",
       "         10.,  18.,  10.,  10.,   6.,  20.,  10.,   8.,  15.,  15.,  18.,\n",
       "         10.,   9.,  15.,   8.,  12.,  12.,  10.]),\n",
       " array([ 15.,  15.,  15.,  25.,  12.,  15.,  18.,  18.,  18.,  20.,  10.,\n",
       "         12.,  10.,  25.,  18.,  10.,  25.,  15.,  16.,  15.,  15.,  15.,\n",
       "         15.,  15.,  17.,  15.,  15.,  15.,  19.,  25.,  12.,  12.,  20.,\n",
       "         20.,  15.,  10.,  15.,   6.,  10.,  10.,   9.,  15.,   4.,  20.,\n",
       "         10.,  10.,   9.,  10.,  10.,  15.,  20.,  15.,  16.,  20.,  10.,\n",
       "         15.,  12.,  12.,  15.,  15.,  15.,  18.,  10.,   8.,  15.,  10.,\n",
       "         15.,  20.,  20.,   8.,  12.,  15.,  12.,  10.,  10.,   6.,  15.,\n",
       "         16.,  10.,  10.,  15.,  10.,  10.,  12.,  15.,  15.,  30.,  15.,\n",
       "         15.,  15.,  20.,  12.,  25.,   8.,   6.,  20.,  18.,  13.,  10.,\n",
       "         15.,   9.,  10.,   8.,  15.,  20.,   8.,  15.,  15.,   8.,  25.,\n",
       "         18.,  10.,   8.,   8.,   6.,  10.,  10.,  15.,  14.,  15.,  15.,\n",
       "         25.,   8.,  15.,  10.,  15.,  15.,  15.,  12.,  15.,   5.,  10.,\n",
       "         15.,  10.,   7.,  10.,   8.,  20.,  18.,  15.,  12.,  12.,  12.,\n",
       "         20.,  15.,  15.,  15.,  15.,  10.,  18.,  15.,   5.,  10.,  15.,\n",
       "         15.,  18.,   5.,  12.,   8.,  20.,  20.,  10.,  10.,  15.,  10.,\n",
       "         10.,  15.,  12.,  14.,  18.,  15.,  10.,  18.,  15.,  15.,  13.,\n",
       "         10.,   8.,  15.,  25.,  15.,  15.,  15.,  18.,  10.,  10.,  18.,\n",
       "         18.,  10.,  10.,  10.,  15.,  20.,  15.,  20.,  15.,  15.,  15.,\n",
       "         20.,  10.,  20.,  13.,  25.,  15.,  15.,  20.,  15.,  25.,  15.,\n",
       "         20.,  20.,  18.,  20.,  18.,  25.,   8.,  15.,  20.,   8.,  15.,\n",
       "         18.,  20.,   8.,  15.,  10.,  18.,  15.,  15.,  12.,   8.,  15.,\n",
       "         12.,   6.,  15.,  10.,  15.,  15.,  15.,  21.,  20.,  10.,  10.,\n",
       "         10.,  15.,  13.,  13.,  25.,  10.,  13.,  15.,  20.,  15.,  15.,\n",
       "         20.,  10.,  15.,  13.,  10.,  18.,  18.,  15.,  25.,  20.,  20.,\n",
       "         10.,  15.,  12.,  10.,  20.,   9.,  15.,   8.,   7.,  12.,  15.,\n",
       "         15.,  13.,  20.,  15.,  10.,  27.,  10.,  15.,  15.,  20.,  17.,\n",
       "         10.,  15.,  10.,  10.,   7.,  12.,  15.,  10.,  15.,  15.,  15.,\n",
       "         12.,  15.,  20.,  10.,  15.,  10.,  15.,  10.,  12.,  20.,  15.,\n",
       "         10.,  10.,  15.,  20.,  12.,  18.,  20.,  13.,  10.,  10.,  15.,\n",
       "         20.,  10.,  25.,  15.,  15.,  10.,  15.,  15.,  12.,  26.,  15.,\n",
       "         10.,  15.,   8.,  20.,  15.,  16.,  25.,  15.,  25.,  10.,  20.,\n",
       "         12.,  15.,  15.,  15.,  10.,  20.,  15.,  25.,  20.,  12.,  20.,\n",
       "         20.,  12.,  16.,  20.,  20.,  10.,   6.,  25.,  18.,  15.,  15.,\n",
       "         13.,   8.,  35.,  15.,  10.,  20.,  18.,  25.,  18.,  15.,  20.,\n",
       "          7.,  15.,  15.,  20.,  20.,  10.,  15.,  20.,  20.,  11.,  15.,\n",
       "         15.,  15.,  15.,  25.,  15.,  15.,  15.,  15.,  15.,  15.,  10.,\n",
       "         18.,  15.,  20.,  15.,  18.,  15.,  15.,  15.,  16.,  15.,  15.,\n",
       "         18.,  20.,  10.,  15.,  15.,  20.,  15.,  25.,  25.,  26.,  15.,\n",
       "         20.,  25.,  10.,  10.,  16.,  15.,  11.,  15.,  15.,  25.,  13.,\n",
       "         25.,  20.,  20.,  15.,  20.,  20.,  10.,  15.,  15.,  15.,  15.,\n",
       "          8.,  15.,  18.,  15.,  20.,   9.,  20.,  15.,  20.,  13.,  13.,\n",
       "          8.,  20.,  15.,   6.,  15.,  14.,  15.,  10.,  20.,   8.,  20.,\n",
       "          8.,  15.,  15.,  10.,  15.,  15.,  10.,  20.,  15.,  12.,  20.,\n",
       "         15.,  15.,  20.,  15.,  15.,  15.,  15.,  20.,  20.,  15.,  15.,\n",
       "         15.,  12.,  20.,  25.,  18.,  25.,  13.,  25.,  10.,  15.,  15.,\n",
       "         15.,  15.,  15.,  12.,  10.,   6.,  13.,  14.,  12.,  20.,  15.,\n",
       "         20.,  30.,  15.,  18.,  25.,  15.,  18.,  15.,  20.,  20.,  25.,\n",
       "         20.,  20.,  20.,  15.,  25.,  10.,  18.,  15.,  25.,  18.,  15.,\n",
       "         20.,  15.,   8.,  13.,  15.,  18.,  15.,  20.,  15.,  15.,  10.,\n",
       "         15.,  15.,  15.,  15.,  15.,  25.,  15.,  15.,  14.,  20.,  20.,\n",
       "         12.,  25.,  20.,  12.,  15.,  15.,  15.,  15.,  18.,  25.,  18.,\n",
       "         20.,  10.,  15.,  15.,  15.,  10.,  20.,  15.,  18.,  25.,  15.,\n",
       "         15.,  18.]),\n",
       " array([ 20.,  20.,  20.,  25.,  20.,  25.,  20.,  25.,  10.,  16.,  15.,\n",
       "         25.,  10.,  15.,  20.,  12.,  12.,  15.,  15.,  15.,  15.,  20.,\n",
       "         25.,  18.,  20.,  18.,  20.,  18.,  15.,  20.,  30.,  10.,  15.,\n",
       "         15.,  25.,  25.,  20.,  18.,  25.,  15.,  20.,  15.,  20.,  20.,\n",
       "         20.,  20.,  20.,  20.,  20.,  25.,  20.,  13.,  25.,  25.,  13.,\n",
       "         12.,  18.,  20.,  20.,  20.,  25.,  18.,  35.,  20.,  18.,  25.,\n",
       "         25.,  15.,  25.,  15.,  25.,  20.,  15.])]"
      ]
     },
     "execution_count": 59,
     "metadata": {},
     "output_type": "execute_result"
    }
   ],
   "source": [
    "salary_group_by_exp_df = []\n",
    "for group in sort_by_exp['exp']:\n",
    "    v = salary_group_by_exp.get_group(group).values\n",
    "    salary_group_by_exp_df.append(v)\n",
    "salary_group_by_exp_df"
   ]
  },
  {
   "cell_type": "code",
   "execution_count": 61,
   "metadata": {},
   "outputs": [
    {
     "data": {
      "image/png": "[encoded data removed]",
      "text/plain": [
       "<matplotlib.figure.Figure at 0xb99f7f0>"
      ]
     },
     "metadata": {},
     "output_type": "display_data"
    }
   ],
   "source": [
    "fig = pyplot.figure(figsize=(36,20))\n",
    "ax5 = pyplot.subplot(111)\n",
    "rect = ax5.boxplot(salary_group_by_exp_df)\n",
    "\n",
    "ax5.set_xticklabels(sort_by_exp['exp'], fontproperties = zhfont)\n",
    "ax5.set_title(u'不同经验薪酬分布', fontproperties = zhfont)\n",
    "ax5.set_ylabel(u'薪酬 K / 月', fontproperties = zhfont)\n",
    "\n",
    "pyplot.savefig('salary_by_JingYan.png')\n",
    "pyplot.show()"
   ]
  },
  {
   "cell_type": "markdown",
   "metadata": {},
   "source": [
    "薪酬随经验上升而上升\n",
    "\n",
    "## 职业技能关键词"
   ]
  },
  {
   "cell_type": "code",
   "execution_count": null,
   "metadata": {
    "collapsed": true
   },
   "outputs": [],
   "source": []
  }
 ],
 "metadata": {
  "kernelspec": {
   "display_name": "Python 2",
   "language": "python",
   "name": "python2"
  },
  "language_info": {
   "codemirror_mode": {
    "name": "ipython",
    "version": 2
   },
   "file_extension": ".py",
   "mimetype": "text/x-python",
   "name": "python",
   "nbconvert_exporter": "python",
   "pygments_lexer": "ipython2",
   "version": "2.7.14"
  }
 },
 "nbformat": 4,
 "nbformat_minor": 2
}
